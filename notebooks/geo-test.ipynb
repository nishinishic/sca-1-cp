{
 "cells": [
  {
   "cell_type": "code",
   "execution_count": null,
   "metadata": {},
   "outputs": [],
   "source": [
    "!pip install diffusers transformers torch accelerate pillow matplotlib"
   ]
  },
  {
   "cell_type": "code",
   "execution_count": null,
   "metadata": {},
   "outputs": [],
   "source": [
    "from diffusers import StableDiffusionControlNetPipeline, ControlNetModel\n",
    "import torch\n",
    "from PIL import Image\n",
    "import matplotlib.pyplot as plt"
   ]
  },
  {
   "cell_type": "code",
   "execution_count": null,
   "metadata": {},
   "outputs": [],
   "source": [
    "# Load ControlNet model for GeoSynth-OSM\n",
    "controlnet = ControlNetModel.from_pretrained(\"MVRL/GeoSynth-OSM\")\n",
    "\n",
    "# Load the Stable Diffusion pipeline with ControlNet\n",
    "pipe = StableDiffusionControlNetPipeline.from_pretrained(\n",
    "    \"stabilityai/stable-diffusion-2-1-base\",\n",
    "    controlnet=controlnet\n",
    ")\n",
    "\n",
    "# Move the pipeline to GPU (if available)\n",
    "pipe = pipe.to(\"cuda:0\" if torch.cuda.is_available() else \"cpu\")"
   ]
  },
  {
   "cell_type": "code",
   "execution_count": null,
   "metadata": {},
   "outputs": [],
   "source": [
    "# Load the OSM tile\n",
    "osm_tile = Image.open(\"osm_tile_18_42048_101323.jpeg\")\n",
    "\n",
    "# Define the text description\n",
    "text_prompt = \"A satellite image of a vibrant city with green parks and rivers\"\n"
   ]
  },
  {
   "cell_type": "code",
   "execution_count": null,
   "metadata": {},
   "outputs": [],
   "source": [
    "import requests\n",
    "from PIL import Image\n",
    "from io import BytesIO\n",
    "\n",
    "# URL of the OSM tile\n",
    "url = \"https://tile.openstreetmap.org/18/42048/101323.png\"\n",
    "\n",
    "# Fetch the image from the URL\n",
    "response = requests.get(url)\n",
    "\n",
    "# Check if the request was successful\n",
    "if response.status_code == 200:\n",
    "    # Load the image into Pillow\n",
    "    osm_tile = Image.open(BytesIO(response.content))\n",
    "    print(\"OSM tile successfully loaded!\")\n",
    "else:\n",
    "    print(f\"Failed to fetch tile: {response.status_code}\")\n"
   ]
  },
  {
   "cell_type": "code",
   "execution_count": null,
   "metadata": {},
   "outputs": [],
   "source": [
    "\n",
    "\n",
    "# Define the text description\n",
    "text_prompt = \"A satellite image of a vibrant city with green parks and rivers\"\n"
   ]
  },
  {
   "cell_type": "code",
   "execution_count": null,
   "metadata": {},
   "outputs": [],
   "source": [
    "# Set a random seed for reproducibility\n",
    "generator = torch.manual_seed(10345340)\n",
    "\n",
    "# Generate the image\n",
    "generated_image = pipe(\n",
    "    prompt=text_prompt,\n",
    "    image=osm_tile,\n",
    "    generator=generator,\n",
    "    num_inference_steps=50,\n",
    "    guidance_scale=7.5\n",
    ").images[0]\n",
    "\n",
    "# Save the image (optional)\n",
    "generated_image.save(\"generated_output.jpg\")\n"
   ]
  },
  {
   "cell_type": "code",
   "execution_count": null,
   "metadata": {},
   "outputs": [],
   "source": [
    "# Display the generated image\n",
    "plt.imshow(generated_image)\n",
    "plt.axis(\"off\")\n",
    "plt.show()"
   ]
  }
 ],
 "metadata": {
  "language_info": {
   "name": "python"
  }
 },
 "nbformat": 4,
 "nbformat_minor": 2
}
